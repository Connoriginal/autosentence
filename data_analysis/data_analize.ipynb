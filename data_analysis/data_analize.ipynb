{
 "cells": [
  {
   "cell_type": "code",
   "execution_count": 1,
   "metadata": {},
   "outputs": [],
   "source": [
    "import pandas as pd"
   ]
  },
  {
   "cell_type": "code",
   "execution_count": 3,
   "metadata": {},
   "outputs": [],
   "source": [
    "# Load data\n",
    "df = pd.read_csv('./results/kookmin_annotated_jaum_count.csv')"
   ]
  },
  {
   "cell_type": "code",
   "execution_count": 3,
   "metadata": {},
   "outputs": [
    {
     "name": "stdout",
     "output_type": "stream",
     "text": [
      "<class 'pandas.core.frame.DataFrame'>\n",
      "RangeIndex: 2476099 entries, 0 to 2476098\n",
      "Data columns (total 2 columns):\n",
      " #   Column  Dtype \n",
      "---  ------  ----- \n",
      " 0   jaum    object\n",
      " 1   count   int64 \n",
      "dtypes: int64(1), object(1)\n",
      "memory usage: 37.8+ MB\n",
      "data info :  None\n",
      "data shape :  (2476099, 2)\n",
      "data head :      jaum  count\n",
      "0  ㄱㄱㄱㄱㄱ   6688\n",
      "1  ㄱㄱㄱㄱㄲ    125\n",
      "2  ㄱㄱㄱㄱㄴ   1092\n",
      "3  ㄱㄱㄱㄱㄷ   3137\n",
      "4  ㄱㄱㄱㄱㄸ     82\n"
     ]
    }
   ],
   "source": [
    "# print info\n",
    "print(\"data info : \", df.info())\n",
    "# print shape\n",
    "print(\"data shape : \", df.shape)\n",
    "# print head\n",
    "print(\"data head : \", df.head())"
   ]
  },
  {
   "cell_type": "code",
   "execution_count": 4,
   "metadata": {},
   "outputs": [],
   "source": [
    "# sort by count\n",
    "df_sort = df.sort_values(by='count', ascending=False)"
   ]
  },
  {
   "cell_type": "code",
   "execution_count": 5,
   "metadata": {},
   "outputs": [
    {
     "name": "stdout",
     "output_type": "stream",
     "text": [
      "data head :            jaum  count\n",
      "77398    ㄱㅇㄹㅂㅇ  58551\n",
      "77468    ㄱㅇㄹㅇㄹ  56980\n",
      "1513171  ㅇㅇㅇㅇㅇ  44857\n",
      "938706   ㅂㄷㅌㄹㅇ  43777\n",
      "88817    ㄱㅈㅎㄱㅇ  42589\n"
     ]
    }
   ],
   "source": [
    "# print head\n",
    "print(\"data head : \", df_sort.head())"
   ]
  },
  {
   "cell_type": "code",
   "execution_count": 6,
   "metadata": {},
   "outputs": [],
   "source": [
    "# save data into csv\n",
    "df_sort.to_csv('./results/kookmin_annotated_jaum_count_sort.csv', index=False)\n",
    "# save data into txt\n",
    "df_sort.to_csv('./results/kookmin_annotated_jaum_count_sort.txt', index=False, sep='\\t')"
   ]
  },
  {
   "cell_type": "code",
   "execution_count": null,
   "metadata": {},
   "outputs": [],
   "source": []
  }
 ],
 "metadata": {
  "interpreter": {
   "hash": "9e5881ad8450b80e223d026b0900be61b7afb1fc9785e98663dbd0a1b608ea79"
  },
  "kernelspec": {
   "display_name": "Python 3.6.13 ('autosentence')",
   "language": "python",
   "name": "python3"
  },
  "language_info": {
   "codemirror_mode": {
    "name": "ipython",
    "version": 3
   },
   "file_extension": ".py",
   "mimetype": "text/x-python",
   "name": "python",
   "nbconvert_exporter": "python",
   "pygments_lexer": "ipython3",
   "version": "3.6.13"
  },
  "orig_nbformat": 4
 },
 "nbformat": 4,
 "nbformat_minor": 2
}
